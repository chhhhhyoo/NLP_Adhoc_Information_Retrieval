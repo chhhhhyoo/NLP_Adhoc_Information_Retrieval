{
 "cells": [
  {
   "cell_type": "code",
   "execution_count": 8,
   "metadata": {},
   "outputs": [
    {
     "data": {
      "text/plain": [
       "'.I 001\\n.W\\nwhat similarity laws must be obeyed when constructing aeroelastic models\\nof heated high sp'"
      ]
     },
     "execution_count": 8,
     "metadata": {},
     "output_type": "execute_result"
    }
   ],
   "source": [
    "with open(\"../data/cran.qry\", 'r') as file:\n",
    "    cran_qry_content = file.read()\n",
    "\n",
    "# cran_qry_content[:100]\n",
    "    \n"
   ]
  },
  {
   "cell_type": "code",
   "execution_count": 14,
   "metadata": {},
   "outputs": [
    {
     "data": {
      "text/plain": [
       "['a', 'the', 'an', 'and', 'or', 'but', 'about', 'above']"
      ]
     },
     "execution_count": 14,
     "metadata": {},
     "output_type": "execute_result"
    }
   ],
   "source": [
    "with open('../data/stop_list.py', 'r') as file:\n",
    "    stop_list_content = file.read()\n",
    "\n",
    "stop_list_content[:100]\n",
    "\n",
    "# Changing the text we extracted into a format that is desired.\n",
    "start = stop_list_content.find('[')\n",
    "end = stop_list_content.find(']', start) + 1 # Search after the start\n",
    "stop_word_list = eval(stop_list_content[start:end])\n",
    "\n",
    "stop_word_list[:8]"
   ]
  },
  {
   "cell_type": "code",
   "execution_count": 4,
   "metadata": {},
   "outputs": [],
   "source": [
    "with open(\"../data/cran.all.1400\", 'r') as file:\n",
    "    cran_all_content = file.read()"
   ]
  },
  {
   "cell_type": "code",
   "execution_count": 15,
   "metadata": {},
   "outputs": [],
   "source": [
    "from nltk.stem import PorterStemmer\n",
    "from nltk.tokenize import word_tokenize\n",
    "import string\n",
    "\n",
    "import re\n",
    "\n",
    "# Clean and tokenize text\n",
    "def clean_tokenize(text, stemmer = PorterStemmer()):\n",
    "    text = text.lower()\n",
    "    text = re.sub(r'\\d+', '', text) # Remove number\n",
    "    text = text.translate(str.maketrans('', '', string.punctuation))  # Remove punctuation\n",
    "    tokens = word_tokenize(text)\n",
    "    # Remove stop_words\n",
    "    tokens = [word for word in tokens if word not in stop_word_list]\n",
    "    # Apply stemming\n",
    "    tokens = [stemmer.stem(word) for word in tokens]\n",
    "    return tokens"
   ]
  },
  {
   "cell_type": "code",
   "execution_count": 17,
   "metadata": {},
   "outputs": [],
   "source": [
    "# Function to parse cran.qry(QUERY) content\n",
    "def parse_cran_qry(content) :\n",
    "    queries = {}\n",
    "    current_id = \"\"\n",
    "    lines = content.split('\\n')\n",
    "    for line in lines:\n",
    "        if line.startswith('.I'): # Start of new query\n",
    "            current_id = line.split(' ')[1]\n",
    "            queries[current_id] = \"\"\n",
    "        elif line.startswith('.W'):\n",
    "            continue\n",
    "        else :\n",
    "            queries[current_id] += line + \" \"\n",
    "    return queries\n",
    "\n",
    "# Parse cran.qry\n",
    "queries = parse_cran_qry(cran_qry_content)\n",
    "\n",
    "# Clean and tokenize each query\n",
    "tokenized_qry = {qid: clean_tokenize(query) for qid, query in queries.items()}"
   ]
  },
  {
   "cell_type": "code",
   "execution_count": 18,
   "metadata": {},
   "outputs": [],
   "source": [
    "# Function to parse .W part (abstracts) from cran.all.1400\n",
    "def parse_cran_abstracts(content) : \n",
    "    abstracts = {}\n",
    "    current_id = \"\"\n",
    "    lines = content.split('\\n')\n",
    "    in_abstract = False\n",
    "    for line in lines:\n",
    "        if line.startswith('.I'):\n",
    "            current_id = line.split(' ')[1]\n",
    "            in_abstract = False\n",
    "        elif line.startswith('.W') :\n",
    "            in_abstract = True\n",
    "            abstracts[current_id] = \"\"\n",
    "        elif in_abstract :\n",
    "            abstracts[current_id] += line + \" \"\n",
    "    return abstracts\n",
    "\n",
    "# Parse the abstracts from cran.all.1400\n",
    "abstracts = parse_cran_abstracts(cran_all_content)\n",
    "\n",
    "# Clean and tokenize each abstract\n",
    "tokenized_abstr = {doc_id : clean_tokenize(abstract) for doc_id, abstract in abstracts.items()}"
   ]
  },
  {
   "cell_type": "code",
   "execution_count": 21,
   "metadata": {},
   "outputs": [
    {
     "ename": "ModuleNotFoundError",
     "evalue": "No module named 'sklearn'",
     "output_type": "error",
     "traceback": [
      "\u001b[1;31m---------------------------------------------------------------------------\u001b[0m",
      "\u001b[1;31mModuleNotFoundError\u001b[0m                       Traceback (most recent call last)",
      "Cell \u001b[1;32mIn[21], line 2\u001b[0m\n\u001b[0;32m      1\u001b[0m \u001b[38;5;28;01mimport\u001b[39;00m \u001b[38;5;21;01mnumpy\u001b[39;00m \u001b[38;5;28;01mas\u001b[39;00m \u001b[38;5;21;01mnp\u001b[39;00m\n\u001b[1;32m----> 2\u001b[0m \u001b[38;5;28;01mfrom\u001b[39;00m \u001b[38;5;21;01msklearn\u001b[39;00m\u001b[38;5;21;01m.\u001b[39;00m\u001b[38;5;21;01mfeature_extraction\u001b[39;00m\u001b[38;5;21;01m.\u001b[39;00m\u001b[38;5;21;01mtext\u001b[39;00m \u001b[38;5;28;01mimport\u001b[39;00m TfidfVectorizer\n\u001b[0;32m      3\u001b[0m \u001b[38;5;28;01mfrom\u001b[39;00m \u001b[38;5;21;01msklearn\u001b[39;00m\u001b[38;5;21;01m.\u001b[39;00m\u001b[38;5;21;01mmetrics\u001b[39;00m\u001b[38;5;21;01m.\u001b[39;00m\u001b[38;5;21;01mpairwise\u001b[39;00m \u001b[38;5;28;01mimport\u001b[39;00m cosine_similarity\n\u001b[0;32m      5\u001b[0m \u001b[38;5;66;03m# Convert tokenized queries and abstracts back to string format for TF-IDF vectorization\u001b[39;00m\n",
      "\u001b[1;31mModuleNotFoundError\u001b[0m: No module named 'sklearn'"
     ]
    }
   ],
   "source": [
    "import numpy as np\n",
    "from sklearn.feature_extraction.text import TfidfVectorizer\n",
    "from sklearn.metrics.pairwise import cosine_similarity\n",
    "\n",
    "# Convert tokenized queries and abstracts back to string format for TF-IDF vectorization\n",
    "queries_str = [\" \".join(tokens) for tokens in tokenized_qry.values()] # For each query\n",
    "abstracts_str = [\" \".join(tokens) for tokens in tokenized_abstr.values()] # For each abstract\n",
    "\n",
    "# Combine queries and abstracts for TF-IDF vectorization (to ensure vocabulary matches)\n",
    "combined_texts = queries_str + abstracts_str\n",
    "\n",
    "# Initialize and fit TF-IDF vectorizer\n",
    "vectorizer = TfidfVectorizer()\n",
    "tfidf_matrix = vectorizer.fit_transform(combined_texts)\n",
    "\n",
    "# Split TF-IDF matrix back into queries and abstracts\n",
    "tfidf_queries = tfidf_matrix[:len(queries_str)]\n",
    "tfidf_abstracts = tfidf_matrix[len(queries_str):]\n",
    "\n",
    "# Compute cosine similarity between each query and all abstracts\n",
    "cosine_similarities = cosine_similarity(tfidf_queries, tfidf_abstracts)\n",
    "        \n",
    "output_lines = []\n",
    "\n",
    "# Minimum number of matches to output for each query\n",
    "min_matches = 100\n",
    "\n",
    "# Iterate over each query's cosine similarities with abstracts\n",
    "for query_index, similarities in enumerate(cosine_similarities):\n",
    "    # Sort the indices of abstracts based on similarity scores in descending order\n",
    "    sorted_indices = np.argsort(similarities)[::-1]\n",
    "    # Filter out indices where similarity score is 0, but ensure at least 100\n",
    "    non_zero_indices = [index for index in sorted_indices if similarities[index] > 0]\n",
    "    \n",
    "    # If fewer than min_matches, append indices with zero similarity\n",
    "    if len(non_zero_indices) < min_matches:\n",
    "        zero_indices = [index for index in sorted_indices if similarities[index] == 0]\n",
    "        required_zeros = min_matches - len(non_zero_indices)\n",
    "        non_zero_indices.extend(zero_indices[:required_zeros])\n",
    "    \n",
    "    # Iterate over filtered and possibly extended indices to prepare lines for the output file\n",
    "    for rank, abstract_index in enumerate(non_zero_indices):\n",
    "        # Format : query_id, abstract_id, cosine_similarity_score\n",
    "        line = f\"{query_index + 1} {abstract_index + 1} {similarities[abstract_index]:.12f}\"\n",
    "        output_lines.append(line)\n",
    "\n"
   ]
  },
  {
   "cell_type": "code",
   "execution_count": null,
   "metadata": {},
   "outputs": [],
   "source": [
    "output_file_path = 'output.txt'\n",
    "with open(output_file_path, 'w') as file:\n",
    "    # Write each line to the file\n",
    "    for line in output_lines:\n",
    "        file.write(line + '\\n')  # Each entry appears on a new line"
   ]
  },
  {
   "cell_type": "code",
   "execution_count": null,
   "metadata": {},
   "outputs": [],
   "source": []
  },
  {
   "cell_type": "code",
   "execution_count": null,
   "metadata": {},
   "outputs": [],
   "source": []
  },
  {
   "cell_type": "code",
   "execution_count": 19,
   "metadata": {},
   "outputs": [],
   "source": [
    "from collections import defaultdict\n",
    "import numpy as np\n",
    "\n",
    "# Function to calculate IDF scores for each word\n",
    "def calculate_idf_scores(tokenized_content) :\n",
    "    word_document_frq = defaultdict(int)\n",
    "    total_documents = len(tokenized_abstr)\n",
    "\n",
    "    # Count each word frequency in documents\n",
    "    for doc in tokenized_abstr :\n",
    "        unique_words = set(doc)\n",
    "        for word in unique_words :\n",
    "            word_document_frq[word] += 1\n",
    "\n",
    "    # Calculate IDF scores\n",
    "    idfs = {word: np.log(total_documents / (1 + freq)) for word, freq in word_document_frq.items()}\n",
    "    return idfs\n",
    "\n",
    "# IDF scores for queries and abstracts\n",
    "idfs_queries = calculate_idf_scores(tokenized_qry.values())\n",
    "idfs_abstracts = calculate_idf_scores(tokenized_abstr.values())"
   ]
  },
  {
   "cell_type": "code",
   "execution_count": 20,
   "metadata": {},
   "outputs": [],
   "source": [
    "from collections import Counter\n",
    "# Function to calculate TF-IDF scores using calculated IDF scores\n",
    "def calculate_tfidf_scores(tokenized_data, idfs) :\n",
    "    tfidf_scores = {}\n",
    "    # Count term frequency\n",
    "    for key, tokens in tokenized_data.items() :\n",
    "        term_counts = Counter(tokens)\n",
    "        total_terms = len(tokens)\n",
    "\n",
    "        # Calculate TF-IDF scores\n",
    "        tf_scores = {term: count / total_terms for term, count in term_counts.items()}\n",
    "        tfidf_scores[key] = {term: tf_scores[term] * idfs.get(term, 0) for term in tf_scores}\n",
    "    \n",
    "    return tfidf_scores\n",
    "\n",
    "# TF-IDF scores for queries and abstracts\n",
    "tfidf_queries = calculate_tfidf_scores(tokenized_qry, idfs_queries)\n",
    "tfidf_abstracts = calculate_tfidf_scores(tokenized_abstr, idfs_abstracts)"
   ]
  },
  {
   "cell_type": "code",
   "execution_count": null,
   "metadata": {},
   "outputs": [],
   "source": []
  }
 ],
 "metadata": {
  "kernelspec": {
   "display_name": "Python 3",
   "language": "python",
   "name": "python3"
  },
  "language_info": {
   "codemirror_mode": {
    "name": "ipython",
    "version": 3
   },
   "file_extension": ".py",
   "mimetype": "text/x-python",
   "name": "python",
   "nbconvert_exporter": "python",
   "pygments_lexer": "ipython3",
   "version": "3.10.10"
  }
 },
 "nbformat": 4,
 "nbformat_minor": 2
}
